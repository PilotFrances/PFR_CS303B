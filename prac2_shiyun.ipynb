{
 "cells": [
  {
   "cell_type": "markdown",
   "metadata": {},
   "source": [
    "# Introduction to Artificial Intelligence for Non Computing"
   ]
  },
  {
   "cell_type": "markdown",
   "metadata": {},
   "source": [
    "## Practical 2 (weeks 3 - 4)"
   ]
  },
  {
   "cell_type": "markdown",
   "metadata": {},
   "source": [
    "## Search Techniques"
   ]
  },
  {
   "cell_type": "markdown",
   "metadata": {},
   "source": [
    "The following links provide additional information about depth first search and breath first search"
   ]
  },
  {
   "cell_type": "markdown",
   "metadata": {},
   "source": [
    "- Depth first search:   link：https://pan.baidu.com/s/1bkLHKKbSBNpfFuKwDyURqw  password：oy76\n",
    "- Breath first search:  link：https://pan.baidu.com/s/176g5q0W3rGbSAM5tZMraeg   password：7mdh"
   ]
  },
  {
   "cell_type": "markdown",
   "metadata": {},
   "source": [
    "#### Theory Questions "
   ]
  },
  {
   "cell_type": "markdown",
   "metadata": {},
   "source": [
    "1\\. What is an algorithm? A sequence of steps such as a recipe or a movie script.\n",
    "\n",
    "As a movie viewer, please write an algorithm for a process to \"see a movie\". Include details of the following for example (add additional information yourself):\n",
    "\t- The start conditions \n",
    "\t-- I want to watch a movie\n",
    "\t- Roles (people/actors involved) \n",
    "    --watcher, ticket seller etc \n",
    "    -Equipment required (\"props\")\n",
    "    --seats, ticket etc\n",
    "    - The scenes \n",
    "    -- scene 1 - buy ticket \n",
    "    -- ??? what happens next\n",
    "    -- scene 3, scene 3 ...\n",
    "    - Results/outcomes\n",
    "    -- ?\n"
   ]
  },
  {
   "cell_type": "markdown",
   "metadata": {},
   "source": [
    "_your answer here..._ \n",
    "\n",
    "***See a movie\n",
    "Go to the cinema\n",
    "\n",
    "if seats available \n",
    "    buy ticket\n",
    "    if snacks provided\n",
    "        while watching\n",
    "            eat snacks\n",
    "else if seats not available\n",
    "    wait for the next \n",
    "    "
   ]
  },
  {
   "cell_type": "markdown",
   "metadata": {},
   "source": [
    "2\\. A farmer with his wolf, duck and bag of corn come to the east side of a river they wish to cross. There is a boat at the rivers edge, but of course only the farmer can row. The boat can only hold two things (including the rower) at any one time. If the wolf is ever left alone with the duck, the wolf will eat it. Similarly if the duck is ever left alone with the corn, the duck will eat it. How can the farmer get across the river so that all four arrive safely on the other side? "
   ]
  },
  {
   "cell_type": "markdown",
   "metadata": {},
   "source": [
    "_your answer here..._ \n",
    "\n",
    "***bring the duck across the river, row back. \n",
    "Bring the wolf across the river, row back with the duck.\n",
    "Bring the corn across the river, row back.\n",
    "Bring the duck across the river."
   ]
  },
  {
   "cell_type": "markdown",
   "metadata": {},
   "source": [
    " "
   ]
  },
  {
   "cell_type": "markdown",
   "metadata": {},
   "source": [
    "3\\.Explain why we determine our problem goals before we write the problem formulation (including the model and deciding what algorithm or techniques to use - for example search, or other method).\n",
    "\n",
    "See Chapter3.1 (Russel & Norvig)"
   ]
  },
  {
   "cell_type": "markdown",
   "metadata": {},
   "source": [
    "_your answer here..._ \n",
    "\n",
    "****Goals help organize behavior by limiting the objectives that the agent is trying to achieve and hence the actions it needs to consider. Goal formulation based on the current situation and the agent’s performance measure, is the first step in problem solving.\n",
    "We will consider a goal to be a set of world states—exactly those states in which the goal is satisfied. The agent’s task is to find out how to act, now and in the future, so that it reaches a goal state. Before it can do this, it needs to decide (or we need to decide on its behalf) what sorts of actions and states it should consider.Problem formulation is the process of deciding what actions and states to consider, given a goal. "
   ]
  },
  {
   "cell_type": "markdown",
   "metadata": {},
   "source": [
    "4\\. This question requires you to perform BFS and DFS on paper.\n",
    "\n",
    "<img src=\"img/p1.png\" width=\"180\" height=\"180\" >\n",
    "\n",
    "1. Simulate (on pencil-and-paper) breadth-first search starting from node A when the goal node is K.\n",
    "2. Simulate (on pencil-and-paper) depth first search starting from node A when the goal node is I.\n"
   ]
  },
  {
   "cell_type": "markdown",
   "metadata": {},
   "source": [
    "1. _your answer here..._ \n",
    "2. _your answer here..._ \n",
    "\n",
    "***ABCDEFGHIK\n",
    "ABCEFDGHI"
   ]
  },
  {
   "cell_type": "markdown",
   "metadata": {},
   "source": [
    "5\\.Consider a state space where the start state is number 1 and each state  k has two successors: numbers 2k and 2k + 1.\n",
    "- a. Draw the portion of the state space for states 1 to 15.\n",
    "- b. Suppose the goal state is 11. List the order in which nodes will be visited for breadthfirst\n",
    "search, depth-limited search with limit 3, and iterative deepening search.\n",
    "- c. How well would bidirectional search work on this problem? What is the branching\n",
    "factor in each direction of the bidirectional search?\n",
    "- d. Does the answer to (c) suggest a reformulation of the problem that would allow you to\n",
    "solve the problem of getting from state 1 to a given goal state with almost no search?\n",
    "- e. Call the action going from k to 2k Left, and the action going to 2k + 1 Right. Can you\n",
    "find an algorithm that outputs the solution to this problem without any search at all?\n",
    "\n",
    "See textbook Chapter3.15"
   ]
  },
  {
   "cell_type": "markdown",
   "metadata": {},
   "source": [
    "a. 1->2,3 2->4,5 3->6,7 4->8,9 5->10,11 6->12,13 7->14,15\n",
    "b.BFS: 1 2 3 4 5 6 7 8 9 10 11\n",
    "depth-limited search: 1 2 4 8 3 6 12 5 10 20 40 7 14 28 56 9 18 36 72 11\n",
    "iterative deepening search: 1 1 2 3 1 2 3 4 5 6 7 1 2 3 4 5 6 7 8 9 10 11 12 13 14 15\n",
    "c.forward direction:2k & 2k+1  back direction: ground(k)\n",
    "d.yes\n",
    "e.trans, goal, list\n",
    "while trans != 1\n",
    "    trans = floor (goal/2)\n",
    "    list.append(trans)\n",
    "    \n",
    "while list\n",
    "    print list.pop()"
   ]
  },
  {
   "cell_type": "markdown",
   "metadata": {},
   "source": [
    "### Programming Excercises"
   ]
  },
  {
   "cell_type": "markdown",
   "metadata": {},
   "source": [
    "1\\.Write a program to solve a classic ancient Chinese puzzle:  \n",
    " We count 35 heads and 94 legs among the chickens and rabbits in a farm. How many rabbits and how many chickens do we have? "
   ]
  },
  {
   "cell_type": "code",
   "execution_count": 5,
   "metadata": {},
   "outputs": [
    {
     "name": "stdout",
     "output_type": "stream",
     "text": [
      "Rabbit=12, chickens=23\n"
     ]
    }
   ],
   "source": [
    "##Hint:Use for loop to iterate all possible\n",
    "## write your answer here!\n",
    "for i in range(1, 36):\n",
    "    if 2*i+4*(35-i) == 94:\n",
    "        print(\"Rabbit=\" + str(35-i) + \", chickens=\"+str(i))  "
   ]
  },
  {
   "cell_type": "markdown",
   "metadata": {},
   "source": [
    "2\\. _Social networking_ Please look at the graph below of social relationships. You have a mango farm, you need to find a mango buyer and sell him your mango that you have grown (just a small farm). To this end, our principle is to use our social network of friends separated by one degree, and then second degree friends (friends of friends), third degree friends (friends of friends of friends).\n",
    "\n",
    "Use the depth first algorithm to search your network until you find a mango seller. \n",
    "\n",
    "We make an assumption that if the person's name ends with m, then it means the person must be the mango seller!\n",
    "\n",
    "\n",
    "<img src=\"img/p3.png\" width=\"500\" height=\"400\" >"
   ]
  },
  {
   "cell_type": "code",
   "execution_count": 5,
   "metadata": {},
   "outputs": [
    {
     "name": "stdout",
     "output_type": "stream",
     "text": [
      "thom is mango seller\n"
     ]
    }
   ],
   "source": [
    "class Node(object):\n",
    "    def __init__(self,name):\n",
    "        self.name = name\n",
    "        self.visit = False\n",
    "        self.adj = list()\n",
    "        #self.father = null\n",
    "\n",
    "def find(Node):\n",
    "    seq = list()\n",
    "    seq.append(Node)\n",
    "    \n",
    "    while seq:\n",
    "        current = seq.pop()\n",
    "        if current.name.endswith(\"m\"):\n",
    "            print(current.name + \" is mango seller\")\n",
    "        for node in current.adj:\n",
    "            if not node.visit:\n",
    "                node.visit=True\n",
    "                node.father = current\n",
    "                seq.append(node)\n",
    "                \n",
    "you = Node(\"you\")\n",
    "anuj = Node(\"anuj\")\n",
    "bob = Node(\"bob\")\n",
    "peggy = Node(\"peggy\")\n",
    "alice = Node(\"alice\")\n",
    "claire = Node(\"claire\")\n",
    "jonny = Node(\"jonny\")\n",
    "thom = Node(\"thom\")\n",
    "you.adj.extend([bob,alice, claire])\n",
    "bob.adj.extend([anuj,peggy])\n",
    "alice.adj.append(peggy)\n",
    "claire.adj.extend([jonny,thom])\n",
    "\n",
    "find(you)\n",
    "\n",
    "\n",
    "\n",
    "    "
   ]
  },
  {
   "cell_type": "markdown",
   "metadata": {},
   "source": [
    "3\\. Depth First traverse：Use depth first traversal to traverse all the DLL files on the C disk and output the file names.\n",
    "\n",
    "Update your code to search for a particular filename.\n",
    "\n",
    "What protocol did you use to select the next node to expand on the fringe?"
   ]
  },
  {
   "cell_type": "code",
   "execution_count": null,
   "metadata": {},
   "outputs": [
    {
     "name": "stdout",
     "output_type": "stream",
     "text": [
      "_ctypes.dll\n",
      "attach_x86.dll\n",
      "attach_amd64.dll\n",
      "steamclient64.dll\n",
      "Steam.dll\n",
      "steamclient.dll\n",
      "_ctypes.dll\n",
      "attach_x86.dll\n",
      "attach_amd64.dll\n",
      "steamclient64.dll\n",
      "Steam.dll\n",
      "steamclient.dll\n",
      "_ctypes.dll\n",
      "attach_x86.dll\n",
      "attach_amd64.dll\n",
      "steamclient64.dll\n",
      "Steam.dll\n",
      "steamclient.dll\n",
      "_ctypes.dll\n",
      "attach_x86.dll\n",
      "attach_amd64.dll\n"
     ]
    }
   ],
   "source": [
    "import os\n",
    "\n",
    "def traverse(file):\n",
    "    seq = list()\n",
    "    seq.append(file)\n",
    "    \n",
    "    while seq:\n",
    "        current = seq.pop()\n",
    "        try:\n",
    "            for i in os.listdir(current):\n",
    "                f=os.path.join(current,i)\n",
    "                if os.path.isdir(f):\n",
    "                    seq.append(f)\n",
    "                elif i.endswith(\".dll\"):\n",
    "                    print(i)\n",
    "        except IOError:\n",
    "            continue\n",
    "            \n",
    "traverse('//')"
   ]
  },
  {
   "cell_type": "markdown",
   "metadata": {},
   "source": [
    "4\\.\n",
    "Breadth First traverse：Use breadth traversal to traverse all the DLL files on the C disk and output the filename.\n",
    "\n",
    "Update your code to search for a particular filename."
   ]
  },
  {
   "cell_type": "code",
   "execution_count": 17,
   "metadata": {},
   "outputs": [
    {
     "name": "stdout",
     "output_type": "stream",
     "text": [
      "//Users/stan/Desktop/CFA.zip\n",
      "//Volumes/Macintosh HD/Users/stan/Desktop/CFA.zip\n",
      "//Users/stan/Library/Containers/com.apple.CloudPhotosConfiguration/Data/Desktop/CFA.zip\n",
      "//Users/stan/Library/Containers/com.apple.PressAndHold/Data/Desktop/CFA.zip\n",
      "//Users/stan/Library/Containers/com.apple.iCal.CalendarNC/Data/Desktop/CFA.zip\n",
      "//Users/stan/Library/Containers/com.apple.languageassetd/Data/Desktop/CFA.zip\n",
      "//Users/stan/Library/Containers/com.apple.photos.VideoConversionService/Data/Desktop/CFA.zip\n",
      "//Users/stan/Library/Containers/com.apple.iCal/Data/Desktop/CFA.zip\n",
      "//Users/stan/Library/Containers/com.apple.share.Video.upload-Youku/Data/Desktop/CFA.zip\n",
      "//Users/stan/Library/Containers/com.apple.QuickTimePlayerX/Data/Desktop/CFA.zip\n",
      "//Users/stan/Library/Containers/com.apple.PassKit.PaymentAuthorizationUIExtension/Data/Desktop/CFA.zip\n",
      "//Users/stan/Library/Containers/com.apple.share.System.set-account-picture/Data/Desktop/CFA.zip\n",
      "//Users/stan/Library/Containers/com.apple.FaceTime/Data/Desktop/CFA.zip\n",
      "//Users/stan/Library/Containers/com.apple.iTunesStorageExtension/Data/Desktop/CFA.zip\n",
      "//Users/stan/Library/Containers/com.apple.share.System.add-to-iphoto/Data/Desktop/CFA.zip\n",
      "//Users/stan/Library/Containers/com.netease.163music/Data/Desktop/CFA.zip\n",
      "//Users/stan/Library/Containers/com.apple.calculator/Data/Desktop/CFA.zip\n",
      "//Users/stan/Library/Containers/com.apple.photos.ImageConversionService/Data/Desktop/CFA.zip\n",
      "//Users/stan/Library/Containers/com.apple.notificationcenterui.WeatherSummary/Data/Desktop/CFA.zip\n",
      "//Users/stan/Library/Containers/com.apple.PhotoBooth/Data/Desktop/CFA.zip\n",
      "//Users/stan/Library/Containers/com.apple.FaceTime.FaceTimeNotificationCenterService/Data/Desktop/CFA.zip\n",
      "//Users/stan/Library/Containers/com.apple.ncplugin.weather/Data/Desktop/CFA.zip\n",
      "//Users/stan/Library/Containers/com.apple.SSMenuAgent/Data/Desktop/CFA.zip\n",
      "//Users/stan/Library/Containers/com.apple.osx-tailspin/Data/Desktop/CFA.zip\n",
      "//Users/stan/Library/Containers/com.apple.iWork.Numbers/Data/Desktop/CFA.zip\n",
      "//Users/stan/Library/Containers/com.apple.quicklook.QuickLookUIService/Data/Desktop/CFA.zip\n",
      "//Users/stan/Library/Containers/com.apple.WeatherKitService/Data/Desktop/CFA.zip\n",
      "//Users/stan/Library/Containers/com.apple.sharekit.EntitlementsHelper/Data/Desktop/CFA.zip\n",
      "//Users/stan/Library/Containers/com.apple.contacts.donation-agent/Data/Desktop/CFA.zip\n",
      "//Users/stan/Library/Containers/com.apple.diagnosticextensions.osx.timemachine/Data/Desktop/CFA.zip\n",
      "//Users/stan/Library/Containers/com.apple.photolibraryd/Data/Desktop/CFA.zip\n",
      "//Users/stan/Library/Containers/com.apple.siri.media-indexer/Data/Desktop/CFA.zip\n",
      "//Users/stan/Library/Containers/com.apple.CryptoTokenKit.setoken/Data/Desktop/CFA.zip\n",
      "//Users/stan/Library/Containers/com.apple.MailServiceAgent/Data/Desktop/CFA.zip\n",
      "//Users/stan/Library/Containers/com.apple.share.System.set-desktop-image/Data/Desktop/CFA.zip\n",
      "//Users/stan/Library/Containers/com.apple.lateragent/Data/Desktop/CFA.zip\n",
      "//Users/stan/Library/Containers/com.apple.TelephonyUtilities.IntentHandler/Data/Desktop/CFA.zip\n",
      "//Users/stan/Library/Containers/com.apple.BKAgentService/Data/Desktop/CFA.zip\n",
      "//Users/stan/Library/Containers/com.apple.cloudphotosd/Data/Desktop/CFA.zip\n",
      "//Users/stan/Library/Containers/com.apple.diagnosticextensions.osx.safari/Data/Desktop/CFA.zip\n",
      "//Users/stan/Library/Containers/com.apple.LookupViewService/Data/Desktop/CFA.zip\n",
      "//Users/stan/Library/Containers/com.apple.share.LinkedIn.set-profile-image/Data/Desktop/CFA.zip\n",
      "//Users/stan/Library/Containers/com.apple.InternalFiltersXPC/Data/Desktop/CFA.zip\n",
      "//Users/stan/Library/Containers/com.apple.tonelibraryd/Data/Desktop/CFA.zip\n",
      "//Users/stan/Library/Containers/com.apple.Maps/Data/Desktop/CFA.zip\n",
      "//Users/stan/Library/Containers/com.apple.diagnosticextensions.osx.getmobilityinfo/Data/Desktop/CFA.zip\n",
      "//Users/stan/Library/Containers/com.apple.Notes.SpotlightIndexExtension/Data/Desktop/CFA.zip\n",
      "//Users/stan/Library/Containers/com.apple.ncplugin.FindMyFriends/Data/Desktop/CFA.zip\n",
      "//Users/stan/Library/Containers/com.apple.share.Video.upload-Tudou/Data/Desktop/CFA.zip\n",
      "//Users/stan/Library/Containers/com.apple.share.Video.upload-video-Flickr/Data/Desktop/CFA.zip\n",
      "//Users/stan/Library/Containers/com.apple.diagnosticextensions.osx.maillogs/Data/Desktop/CFA.zip\n",
      "//Users/stan/Library/Containers/com.apple.CalendarNotification.CalNCService/Data/Desktop/CFA.zip\n",
      "//Users/stan/Library/Containers/com.apple.share.System.set-buddy-picture/Data/Desktop/CFA.zip\n",
      "//Users/stan/Library/Containers/com.apple.Grab/Data/Desktop/CFA.zip\n",
      "//Users/stan/Library/Containers/com.apple.Notes.HTMLConverter/Data/Desktop/CFA.zip\n",
      "//Users/stan/Library/Containers/com.apple.AddressBook.FaceTimeService/Data/Desktop/CFA.zip\n",
      "//Users/stan/Library/Containers/com.tencent.xinWeChat/Data/Desktop/CFA.zip\n",
      "//Users/stan/Library/Containers/com.apple.CloudDocsDaemon.StorageManagement/Data/Desktop/CFA.zip\n",
      "//Users/stan/Library/Containers/com.microsoft.Powerpoint/Data/Desktop/CFA.zip\n",
      "//Users/stan/Library/Containers/com.apple.iBooksX-SecureUserDefaults/Data/Desktop/CFA.zip\n",
      "//Users/stan/Library/Containers/com.apple.iMovieApp/Data/Desktop/CFA.zip\n",
      "//Users/stan/Library/Containers/com.apple.Safari.CacheDeleteExtension/Data/Desktop/CFA.zip\n",
      "//Users/stan/Library/Containers/com.apple.AddressBook.ContactsAccountsService/Data/Desktop/CFA.zip\n",
      "//Users/stan/Library/Containers/com.apple.share.Facebook.set-profile-image/Data/Desktop/CFA.zip\n",
      "//Users/stan/Library/Containers/com.apple.iTunes.today.TodayExtension/Data/Desktop/CFA.zip\n",
      "//Users/stan/Library/Containers/com.apple.iBooksX/Data/Desktop/CFA.zip\n",
      "//Users/stan/Library/Containers/com.apple.AmbientDisplayAgent/Data/Desktop/CFA.zip\n",
      "//Users/stan/Library/Containers/com.apple.ncplugin.stocks/Data/Desktop/CFA.zip\n",
      "//Users/stan/Library/Containers/com.apple.ncplugin.calculator/Data/Desktop/CFA.zip\n",
      "//Users/stan/Library/Containers/com.apple.iBooksX.DiskSpaceEfficiency/Data/Desktop/CFA.zip\n",
      "//Users/stan/Library/Containers/com.apple.messages.StorageManagementExtension/Data/Desktop/CFA.zip\n",
      "//Users/stan/Library/Containers/com.apple.ContactsUI.ContactPickerService/Data/Desktop/CFA.zip\n",
      "//Users/stan/Library/Containers/com.apple.Localization.SetDefaultsService/Data/Desktop/CFA.zip\n",
      "//Users/stan/Library/Containers/com.microsoft.Word/Data/Desktop/CFA.zip\n",
      "//Users/stan/Library/Containers/com.apple.share.Twitter.set-profile-image/Data/Desktop/CFA.zip\n",
      "//Users/stan/Library/Containers/com.apple.STMExtension.OtherUsers/Data/Desktop/CFA.zip\n",
      "//Users/stan/Library/Containers/com.apple.diagnosticextensions.osx.bluetooth/Data/Desktop/CFA.zip\n",
      "//Users/stan/Library/Containers/com.apple.share.CloudSharing.invite/Data/Desktop/CFA.zip\n",
      "//Users/stan/Library/Containers/com.microsoft.onenote.mac/Data/Desktop/CFA.zip\n",
      "//Users/stan/Library/Containers/com.apple.iWork.Keynote/Data/Desktop/CFA.zip\n",
      "//Users/stan/Library/Containers/com.apple.share.SocialWidget/Data/Desktop/CFA.zip\n",
      "//Users/stan/Library/Containers/com.apple.iwork.ArchiveUpgrader/Data/Desktop/CFA.zip\n",
      "//Users/stan/Library/Containers/com.apple.diagnosticextensions.osx.installlog/Data/Desktop/CFA.zip\n",
      "//Users/stan/Library/Containers/com.apple.photoanalysisd/Data/Desktop/CFA.zip\n",
      "//Users/stan/Library/Containers/com.apple.share.Mail.compose-back-to-sender/Data/Desktop/CFA.zip\n",
      "//Users/stan/Library/Containers/com.apple..NowPlayingWidgetContainer/Data/Desktop/CFA.zip\n",
      "//Users/stan/Library/Containers/com.apple.MediaLibraryService/Data/Desktop/CFA.zip\n",
      "//Users/stan/Library/Containers/com.apple.iChat/Data/Desktop/CFA.zip\n",
      "//Users/stan/Library/Containers/com.apple.signpost.signpost-notificationd/Data/Desktop/CFA.zip\n",
      "//Users/stan/Library/Containers/com.apple.iWork.Pages/Data/Desktop/CFA.zip\n",
      "//Users/stan/Library/Containers/com.apple.messages.MapRenderingService/Data/Desktop/CFA.zip\n",
      "//Users/stan/Library/Containers/com.apple.CloudDocs.MobileDocumentsFileProvider/Data/Desktop/CFA.zip\n",
      "//Users/stan/Library/Containers/com.apple.share.TencentWeibo.post/Data/Desktop/CFA.zip\n",
      "//Users/stan/Library/Containers/com.apple.STMFramework.UIHelper/Data/Desktop/CFA.zip\n",
      "//Users/stan/Library/Containers/com.apple.share.Video.upload-Vimeo/Data/Desktop/CFA.zip\n",
      "//Users/stan/Library/Containers/com.apple.AddressBook.UrlForwarder/Data/Desktop/CFA.zip\n",
      "//Users/stan/Library/Containers/com.apple.mail/Data/Desktop/CFA.zip\n",
      "//Users/stan/Library/Containers/com.apple.soagent/Data/Desktop/CFA.zip\n",
      "//Users/stan/Library/Containers/com.apple.ctkahp/Data/Desktop/CFA.zip\n",
      "//Users/stan/Library/Containers/com.apple.DataDetectorsLocalSources/Data/Desktop/CFA.zip\n"
     ]
    },
    {
     "name": "stdout",
     "output_type": "stream",
     "text": [
      "//Users/stan/Library/Containers/com.apple.Photos/Data/Desktop/CFA.zip\n",
      "//Users/stan/Library/Containers/com.apple.reminders.RemindersNC/Data/Desktop/CFA.zip\n",
      "//Users/stan/Library/Containers/com.apple.ContactsAgent/Data/Desktop/CFA.zip\n",
      "//Users/stan/Library/Containers/com.apple.PassXPCService/Data/Desktop/CFA.zip\n",
      "//Users/stan/Library/Containers/com.apple.appstore/Data/Desktop/CFA.zip\n",
      "//Users/stan/Library/Containers/com.apple.MarkupUI.MarkupPhotoExtension/Data/Desktop/CFA.zip\n",
      "//Users/stan/Library/Containers/com.microsoft.Office365ServiceV2/Data/Desktop/CFA.zip\n",
      "//Users/stan/Library/Containers/com.apple.Siri/Data/Desktop/CFA.zip\n",
      "//Users/stan/Library/Containers/com.apple.PhotoLibraryMigrationUtility/Data/Desktop/CFA.zip\n",
      "//Users/stan/Library/Containers/com.apple.Pass-Viewer/Data/Desktop/CFA.zip\n",
      "//Users/stan/Library/Containers/com.apple.Notes/Data/Desktop/CFA.zip\n",
      "//Users/stan/Library/Containers/com.apple.accessibility.heard/Data/Desktop/CFA.zip\n",
      "//Users/stan/Library/Containers/FN2V63AD2J.com.tencent.ScreenCapture2/Data/Desktop/CFA.zip\n",
      "//Users/stan/Library/Containers/com.apple.MarkupUI.Markup/Data/Desktop/CFA.zip\n",
      "//Users/stan/Library/Containers/com.apple.garageband10/Data/Desktop/CFA.zip\n",
      "//Users/stan/Library/Containers/com.apple.STMExtension.Trash/Data/Desktop/CFA.zip\n",
      "//Users/stan/Library/Containers/com.apple.diagnosticextensions.osx.syslog/Data/Desktop/CFA.zip\n",
      "//Users/stan/Library/Containers/com.apple.MailCacheDelete/Data/Desktop/CFA.zip\n",
      "//Users/stan/Library/Containers/com.apple.STMExtension.iOSFiles/Data/Desktop/CFA.zip\n",
      "//Users/stan/Library/Containers/com.apple.STMExtension.Applications/Data/Desktop/CFA.zip\n",
      "//Users/stan/Library/Containers/com.apple.photomodel/Data/Desktop/CFA.zip\n",
      "//Users/stan/Library/Containers/com.apple.reminders/Data/Desktop/CFA.zip\n",
      "//Users/stan/Library/Containers/com.apple.Dictionary/Data/Desktop/CFA.zip\n",
      "//Users/stan/Library/Containers/com.apple.TextEdit/Data/Desktop/CFA.zip\n",
      "//Users/stan/Library/Containers/com.apple.grapher/Data/Desktop/CFA.zip\n",
      "//Users/stan/Library/Containers/com.apple.CryptoTokenKit.pivtoken/Data/Desktop/CFA.zip\n",
      "//Users/stan/Library/Containers/com.apple.IntlTexts.KeyboardServicesHelper/Data/Desktop/CFA.zip\n",
      "//Users/stan/Library/Containers/com.apple.print.PKBrowserService/Data/Desktop/CFA.zip\n",
      "//Users/stan/Library/Containers/com.apple.systempreferences.cacheAssistant/Data/Desktop/CFA.zip\n",
      "//Users/stan/Library/Containers/com.apple.Photos.StorageManagementExtension/Data/Desktop/CFA.zip\n",
      "//Users/stan/Library/Containers/com.apple.ncplugin.WorldClock/Data/Desktop/CFA.zip\n",
      "//Users/stan/Library/Containers/com.apple.diagnosticextensions.osx.systemprofile/Data/Desktop/CFA.zip\n",
      "//Users/stan/Library/Containers/com.apple.share.Facebook.post/Data/Desktop/CFA.zip\n",
      "//Users/stan/Library/Containers/com.apple.geod/Data/Desktop/CFA.zip\n",
      "//Users/stan/Library/Containers/com.apple.appstore.PluginXPCService/Data/Desktop/CFA.zip\n",
      "//Users/stan/Library/Containers/com.apple.CalendarAgent/Data/Desktop/CFA.zip\n",
      "//Users/stan/Library/Containers/com.apple.Safari.SafariQuickLookPreview/Data/Desktop/CFA.zip\n",
      "//Users/stan/Library/Containers/com.apple.CaptiveNetworkAssistant/Data/Desktop/CFA.zip\n",
      "//Users/stan/Library/Containers/com.apple.Chess/Data/Desktop/CFA.zip\n",
      "//Users/stan/Library/Containers/com.apple.diagnosticextensions.osx.filevault/Data/Desktop/CFA.zip\n",
      "//Users/stan/Library/Containers/com.apple.share.AirDrop.send/Data/Desktop/CFA.zip\n",
      "//Users/stan/Library/Containers/com.apple.photomoments/Data/Desktop/CFA.zip\n",
      "//Users/stan/Library/Containers/com.apple.DataDetectorsViewService/Data/Desktop/CFA.zip\n",
      "//Users/stan/Library/Containers/com.apple.STMExtension.Mail/Data/Desktop/CFA.zip\n",
      "//Users/stan/Library/Containers/com.apple.PhotoIngestService/Data/Desktop/CFA.zip\n",
      "//Users/stan/Library/Containers/com.apple.coremedia.pluginformatreader/Data/Desktop/CFA.zip\n",
      "//Users/stan/Library/Containers/com.apple.inputmethod.ChineseHandwriting/Data/Desktop/CFA.zip\n",
      "//Users/stan/Library/Containers/com.apple.inputmethod.SCIM/Data/Desktop/CFA.zip\n",
      "//Users/stan/Library/Containers/com.microsoft.Excel/Data/Desktop/CFA.zip\n",
      "//Users/stan/Library/Containers/com.apple.corerecents.recentsd/Data/Desktop/CFA.zip\n",
      "//Users/stan/Library/Containers/com.apple.STMExtension.GarageBand/Data/Desktop/CFA.zip\n",
      "//Users/stan/Library/Containers/com.apple.weather/Data/Desktop/CFA.zip\n",
      "//Users/stan/Library/Containers/com.apple.share.Twitter.post/Data/Desktop/CFA.zip\n",
      "//Users/stan/Library/Containers/com.apple.Preview/Data/Desktop/CFA.zip\n",
      "//Users/stan/Library/Containers/com.apple.appkit.xpc.LegacyExternalColorPickerService/Data/Desktop/CFA.zip\n",
      "//Users/stan/Library/Containers/com.apple.stocks/Data/Desktop/CFA.zip\n",
      "//Users/stan/Library/Containers/com.apple.AddressBook.ABPersonViewService/Data/Desktop/CFA.zip\n",
      "//Users/stan/Library/Containers/com.apple.diagnosticextensions.osx.spotlight/Data/Desktop/CFA.zip\n",
      "//Users/stan/Library/Containers/com.apple.accessibility.mediaaccessibilityd/Data/Desktop/CFA.zip\n",
      "//Users/stan/Library/Containers/com.microsoft.errorreporting/Data/Desktop/CFA.zip\n",
      "//Users/stan/Library/Containers/com.apple.share.Video.upload-image-Flickr/Data/Desktop/CFA.zip\n",
      "//Users/stan/Library/Containers/com.apple.Notes.datastore/Data/Desktop/CFA.zip\n",
      "//Users/stan/Library/Containers/com.apple.Notes.NotesImporter/Data/Desktop/CFA.zip\n",
      "//Users/stan/Library/Containers/com.apple.quicklook.ui.helper/Data/Desktop/CFA.zip\n",
      "//Users/stan/Library/Containers/com.apple.iBooksX.CacheDelete/Data/Desktop/CFA.zip\n",
      "//Users/stan/Library/Containers/com.apple.NetworkExtension.IKEv2Provider/Data/Desktop/CFA.zip\n",
      "//Users/stan/Library/Containers/com.apple.share.System.add-to-safari-reading-list/Data/Desktop/CFA.zip\n",
      "//Users/stan/Library/Containers/com.apple.share.System.add-to-aperture/Data/Desktop/CFA.zip\n",
      "//Users/stan/Library/Containers/com.apple.AuthKitUI.AKFollowUpServerUIExtension/Data/Desktop/CFA.zip\n",
      "//Users/stan/Library/Containers/com.apple.share.Mail.compose/Data/Desktop/CFA.zip\n",
      "//Users/stan/Library/Containers/com.apple.diagnosticextensions.osx.wifi/Data/Desktop/CFA.zip\n",
      "//Users/stan/Library/Containers/com.apple.SiriNCService/Data/Desktop/CFA.zip\n",
      "//Users/stan/Library/Containers/com.apple.share.LinkedIn.post/Data/Desktop/CFA.zip\n",
      "//Users/stan/Library/Containers/com.apple.siri.DeepSyncVerificationService/Data/Desktop/CFA.zip\n",
      "//Users/stan/Library/Containers/com.apple.ScreenSharing/Data/Desktop/CFA.zip\n",
      "//Users/stan/Library/Containers/com.tencent.qq/Data/Desktop/CFA.zip\n",
      "//Users/stan/Library/Containers/com.apple.AirPlayUIAgent/Data/Desktop/CFA.zip\n",
      "//Users/stan/Library/Containers/com.apple.share.SinaWeibo.post/Data/Desktop/CFA.zip\n",
      "//Users/stan/Library/Containers/com.apple.AddressBook/Data/Desktop/CFA.zip\n",
      "//Users/stan/Library/Containers/com.apple.iTunesCacheExtension/Data/Desktop/CFA.zip\n",
      "//Users/stan/Library/Containers/com.fiplab.extractor/Data/Desktop/CFA.zip\n",
      "//Users/stan/Library/Containers/com.apple.DataDetectorsActionService/Data/Desktop/CFA.zip\n",
      "//Users/stan/Library/Containers/com.ABabe.rarextractorfree/Data/Desktop/CFA.zip\n",
      "//Users/stan/Library/Containers/com.apple.print.normalizerd/Data/Desktop/CFA.zip\n",
      "//Users/stan/Library/Containers/ru.keepcoder.Telegram/Data/Desktop/CFA.zip\n",
      "//Users/stan/Library/Containers/com.apple.PhotoThemeService/Data/Desktop/CFA.zip\n",
      "//Users/stan/Library/Containers/com.apple.Notes.QuickLookExtension/Data/Desktop/CFA.zip\n",
      "//Users/stan/Library/Containers/com.microsoft.Outlook/Data/Desktop/CFA.zip\n",
      "//Users/stan/Library/Containers/com.apple.mediaanalysisd/Data/Desktop/CFA.zip\n",
      "//Users/stan/Library/Containers/com.apple.ImageKit.RecentPictureService/Data/Desktop/CFA.zip\n",
      "//Users/stan/Library/Containers/com.apple.OSDUIHelper/Data/Desktop/CFA.zip\n",
      "//Users/stan/Library/Containers/com.apple.SocialPushAgent/Data/Desktop/CFA.zip\n",
      "//Users/stan/Library/Containers/com.apple.share.Video.upload-Facebook/Data/Desktop/CFA.zip\n",
      "//Users/stan/Library/Containers/com.apple.CalendarFileHandler/Data/Desktop/CFA.zip\n",
      "//Volumes/Macintosh HD/Volumes/Macintosh HD/Users/stan/Desktop/CFA.zip\n"
     ]
    },
    {
     "ename": "KeyboardInterrupt",
     "evalue": "",
     "traceback": [
      "\u001b[0;31m---------------------------------------------------------------------------\u001b[0m",
      "\u001b[0;31mKeyboardInterrupt\u001b[0m                         Traceback (most recent call last)",
      "\u001b[0;32m<ipython-input-17-2d1493229f47>\u001b[0m in \u001b[0;36m<module>\u001b[0;34m()\u001b[0m\n\u001b[1;32m     38\u001b[0m \u001b[0;34m\u001b[0m\u001b[0m\n\u001b[1;32m     39\u001b[0m \u001b[0;34m\u001b[0m\u001b[0m\n\u001b[0;32m---> 40\u001b[0;31m \u001b[0mtravper\u001b[0m\u001b[0;34m(\u001b[0m\u001b[0;34m'//'\u001b[0m\u001b[0;34m,\u001b[0m \u001b[0;34m\"CFA.zip\"\u001b[0m\u001b[0;34m)\u001b[0m\u001b[0;34m\u001b[0m\u001b[0m\n\u001b[0m\u001b[1;32m     41\u001b[0m \u001b[0;34m\u001b[0m\u001b[0m\n\u001b[1;32m     42\u001b[0m \u001b[0;34m\u001b[0m\u001b[0m\n",
      "\u001b[0;32m<ipython-input-17-2d1493229f47>\u001b[0m in \u001b[0;36mtravper\u001b[0;34m(file, name)\u001b[0m\n\u001b[1;32m     30\u001b[0m             \u001b[0;32mfor\u001b[0m \u001b[0mi\u001b[0m \u001b[0;32min\u001b[0m \u001b[0mos\u001b[0m\u001b[0;34m.\u001b[0m\u001b[0mlistdir\u001b[0m\u001b[0;34m(\u001b[0m\u001b[0mcurrent\u001b[0m\u001b[0;34m)\u001b[0m\u001b[0;34m:\u001b[0m\u001b[0;34m\u001b[0m\u001b[0m\n\u001b[1;32m     31\u001b[0m                 \u001b[0mf\u001b[0m\u001b[0;34m=\u001b[0m\u001b[0mos\u001b[0m\u001b[0;34m.\u001b[0m\u001b[0mpath\u001b[0m\u001b[0;34m.\u001b[0m\u001b[0mjoin\u001b[0m\u001b[0;34m(\u001b[0m\u001b[0mcurrent\u001b[0m\u001b[0;34m,\u001b[0m\u001b[0mi\u001b[0m\u001b[0;34m)\u001b[0m\u001b[0;34m\u001b[0m\u001b[0m\n\u001b[0;32m---> 32\u001b[0;31m                 \u001b[0;32mif\u001b[0m \u001b[0mos\u001b[0m\u001b[0;34m.\u001b[0m\u001b[0mpath\u001b[0m\u001b[0;34m.\u001b[0m\u001b[0misdir\u001b[0m\u001b[0;34m(\u001b[0m\u001b[0mf\u001b[0m\u001b[0;34m)\u001b[0m\u001b[0;34m:\u001b[0m\u001b[0;34m\u001b[0m\u001b[0m\n\u001b[0m\u001b[1;32m     33\u001b[0m                     \u001b[0mseq\u001b[0m\u001b[0;34m.\u001b[0m\u001b[0mput\u001b[0m\u001b[0;34m(\u001b[0m\u001b[0mf\u001b[0m\u001b[0;34m)\u001b[0m\u001b[0;34m\u001b[0m\u001b[0m\n\u001b[1;32m     34\u001b[0m                 \u001b[0;32melif\u001b[0m \u001b[0mi\u001b[0m \u001b[0;34m==\u001b[0m \u001b[0mname\u001b[0m\u001b[0;34m:\u001b[0m\u001b[0;34m\u001b[0m\u001b[0m\n",
      "\u001b[0;32m~/anaconda3/lib/python3.6/genericpath.py\u001b[0m in \u001b[0;36misdir\u001b[0;34m(s)\u001b[0m\n\u001b[1;32m     40\u001b[0m     \u001b[0;34m\"\"\"Return true if the pathname refers to an existing directory.\"\"\"\u001b[0m\u001b[0;34m\u001b[0m\u001b[0m\n\u001b[1;32m     41\u001b[0m     \u001b[0;32mtry\u001b[0m\u001b[0;34m:\u001b[0m\u001b[0;34m\u001b[0m\u001b[0m\n\u001b[0;32m---> 42\u001b[0;31m         \u001b[0mst\u001b[0m \u001b[0;34m=\u001b[0m \u001b[0mos\u001b[0m\u001b[0;34m.\u001b[0m\u001b[0mstat\u001b[0m\u001b[0;34m(\u001b[0m\u001b[0ms\u001b[0m\u001b[0;34m)\u001b[0m\u001b[0;34m\u001b[0m\u001b[0m\n\u001b[0m\u001b[1;32m     43\u001b[0m     \u001b[0;32mexcept\u001b[0m \u001b[0mOSError\u001b[0m\u001b[0;34m:\u001b[0m\u001b[0;34m\u001b[0m\u001b[0m\n\u001b[1;32m     44\u001b[0m         \u001b[0;32mreturn\u001b[0m \u001b[0;32mFalse\u001b[0m\u001b[0;34m\u001b[0m\u001b[0m\n",
      "\u001b[0;31mKeyboardInterrupt\u001b[0m: "
     ],
     "output_type": "error"
    }
   ],
   "source": [
    "import queue\n",
    "import os\n",
    "\n",
    "def traverse(file):\n",
    "    seq = queue.Queue()\n",
    "    seq.put(file)\n",
    "    \n",
    "    while not seq.empty():\n",
    "        current = seq.get()\n",
    "        try:\n",
    "            for i in os.listdir(current):\n",
    "                f=os.path.join(current,i)\n",
    "                if os.path.isdir(f):\n",
    "                    seq.put(f)\n",
    "                elif i.endswith(\".py\"):\n",
    "                    print(i)\n",
    "        except IOError:\n",
    "            continue\n",
    "                     \n",
    "#traverse('//')\n",
    "\n",
    "\n",
    "def travper(file, name):\n",
    "    seq = queue.Queue()\n",
    "    seq.put(file)\n",
    "    \n",
    "    while not seq.empty():\n",
    "        current = seq.get()\n",
    "        try:\n",
    "            for i in os.listdir(current):\n",
    "                f=os.path.join(current,i)\n",
    "                if os.path.isdir(f):\n",
    "                    seq.put(f)\n",
    "                elif i == name:\n",
    "                    print(f)\n",
    "        except IOError:\n",
    "            continue\n",
    "                \n",
    "                \n",
    "travper('//', \"CFA.zip\")\n",
    "\n",
    "                "
   ]
  },
  {
   "cell_type": "markdown",
   "metadata": {},
   "source": [
    "5\\. Uniform cost search"
   ]
  },
  {
   "cell_type": "markdown",
   "metadata": {},
   "source": [
    "Consider a state space where the start state is 2 and each state k has three successors: numbers 2k, 2k+1, 2k+2. The cost from state k to each respective child is k, ground(k/2), k+2.\n",
    "\n",
    "can you implement a uniform-cost-search algorithm with python. The goal state is number 85."
   ]
  },
  {
   "cell_type": "code",
   "execution_count": 30,
   "metadata": {},
   "outputs": [
    {
     "name": "stdout",
     "output_type": "stream",
     "text": [
      "2 ==> 5 ==> 10 ==> 21 ==> 42 ==> 85\n",
      "Culmulated cost: 53\n"
     ]
    }
   ],
   "source": [
    "import heapq\n",
    "import math\n",
    "\n",
    "class Node(object):\n",
    "    def __init__(self, num):\n",
    "        self.num = num\n",
    "        self.cc = 0\n",
    "        self.father = None\n",
    "    def __lt__(self, other):\n",
    "        return self.cc < other.cc\n",
    "    def __eq__(self, other):\n",
    "        return self.cc == other.cc\n",
    "    \n",
    "def traceBack(child):\n",
    "    c = list()\n",
    "    cur = child.father\n",
    "    while cur.father is not None:\n",
    "        c.append(cur)\n",
    "        cur = cur.father\n",
    "    c.append(cur)\n",
    "    while c :\n",
    "        print(str(c.pop().num) + \" ==> \",end = \"\")\n",
    "    print(child.num)\n",
    "    \n",
    "def search(root):\n",
    "    goal = 85\n",
    "    seq = list()\n",
    "    heapq.heappush(seq, root)\n",
    "    while seq:\n",
    "        current = heapq.heappop(seq)\n",
    "        if current.num == goal:\n",
    "            traceBack(current)\n",
    "            print(\"Culmulated cost: \" + str(current.cc))\n",
    "            break\n",
    "        else:\n",
    "            first = Node(current.num*2)\n",
    "            first.cc = current.cc + current.num\n",
    "            first.father = current\n",
    "            heapq.heappush(seq, first)\n",
    "            second = Node(current.num*2+1)\n",
    "            second.cc = current.cc + math.floor(current.num/2)\n",
    "            second.father = current\n",
    "            heapq.heappush(seq, second)\n",
    "            third = Node(current.num*2+2)\n",
    "            third.cc = current.cc + current.num + 2\n",
    "            third.father = current\n",
    "            heapq.heappush(seq, third)\n",
    "\n",
    "search(Node(2))\n",
    "            "
   ]
  },
  {
   "cell_type": "markdown",
   "metadata": {},
   "source": [
    "6\\.a* question"
   ]
  },
  {
   "cell_type": "markdown",
   "metadata": {},
   "source": [
    "A cute cat stays in the A position, he is hungry. But the food is placed in the B position. Can you help him to find the food? \n",
    "Hint:  The problem isn't easy. It's essential for you to understand the A* algorithm before you solve this problem. Then, you can use some thought of Node in java, when you are in code.\n",
    "\n",
    "<img src=\"img/p4.png\" width=\"500\" height=\"400\" >\n"
   ]
  },
  {
   "cell_type": "code",
   "execution_count": null,
   "metadata": {},
   "outputs": [],
   "source": [
    "## write your answer here!"
   ]
  }
 ],
 "metadata": {
  "kernelspec": {
   "display_name": "Python 3",
   "language": "python",
   "name": "python3"
  },
  "language_info": {
   "codemirror_mode": {
    "name": "ipython",
    "version": 3
   },
   "file_extension": ".py",
   "mimetype": "text/x-python",
   "name": "python",
   "nbconvert_exporter": "python",
   "pygments_lexer": "ipython3",
   "version": "3.6.5"
  }
 },
 "nbformat": 4,
 "nbformat_minor": 2
}
