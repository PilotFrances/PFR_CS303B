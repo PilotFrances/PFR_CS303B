{
 "cells": [
  {
   "cell_type": "markdown",
   "metadata": {},
   "source": [
    "# Introduction to Artificial Intelligence for Non Computing"
   ]
  },
  {
   "cell_type": "markdown",
   "metadata": {},
   "source": [
    "## Practical 3 (weeks 5 - 6)"
   ]
  },
  {
   "cell_type": "markdown",
   "metadata": {},
   "source": [
    "The following links provide additional information about data analysis , machine learning and Numpy"
   ]
  },
  {
   "cell_type": "markdown",
   "metadata": {},
   "source": [
    "Python data analysis: https://www.imooc.com/learn/843\n",
    "machine learning: https://www.imooc.com/learn/717\n",
    "Numpy :https://www.imooc.com/learn/943"
   ]
  },
  {
   "cell_type": "markdown",
   "metadata": {},
   "source": [
    "#### Theory Questions"
   ]
  },
  {
   "cell_type": "markdown",
   "metadata": {},
   "source": [
    "1\\.Which of the following are true and which are false? Give brief explanations.\n",
    "- a. In a fully observable, turn-taking, zero-sum game between two perfectly rational players,it does not help the first player to know what strategy the second player is using—that is, what move the second player will make, given the first player's move.\n",
    "- b. In a partially observable, turn-taking, zero-sum game between two perfectly rational players, it does not help the first player to know what move the second player will make, given the first player's move.\n",
    "- c. A perfectly rational backgammon agent never loses.\n",
    "\n",
    "See textbook Chapter6 24.6"
   ]
  },
  {
   "cell_type": "markdown",
   "metadata": {},
   "source": [
    "_your answer here..._ \n",
    "\n",
    "***\n",
    "a. True. Knowing the strategy of second player doesn't help the first player as the second player will move optimaly accroding to first player's move.\n",
    "b. False. Kowning the move of the second player will make could provide the first player's information about the state, thus will affect the state change of the first player.\n",
    "c. False. Backgammon is the game base on probability, if the opponent keep rolls better dice, the agent has the probability to lose."
   ]
  },
  {
   "cell_type": "markdown",
   "metadata": {},
   "source": [
    "2\\.Define in your own words the terms constraint, backtracking search, arc consistency,backjumping, min-conflicts, and cycle cutset.\n",
    "\n",
    "See textbook Chapter6 6.16"
   ]
  },
  {
   "cell_type": "markdown",
   "metadata": {},
   "source": [
    "_your answer here..._ \n",
    "\n",
    "***\n",
    "Constraint is a set of allowable values of variables.\n",
    "\n",
    "Backtracking search is is a kind of DFS that for certain search tree that the backtracking method is not in the solution process, and the complete tree structure is preserved.\n",
    "\n",
    "Arc consistency described that for a direced arc from variable A to variable B in a CSP for every value in the current domain A there is some consistent value of B.\n",
    "\n",
    "\n",
    "Backjumping is a way of making backtracking search more efficient, by jumping back more than one level when a dead end is reached.\n",
    "\n",
    "Min-conflicts is a heuristic for use with local search on CSP problems. The heuristic says that, when given a variable to modify, choose the value that conflicts with the fewest number of other variables.\n",
    "\n",
    "A cycle cutset is a set of variables which when removed from the constraint graph make it acyclic (i.e., a tree). When the variables of a cycle cutset are instantiated the remainder of the CSP can be solved in linear time."
   ]
  },
  {
   "cell_type": "markdown",
   "metadata": {},
   "source": [
    "3\\.Explain why it is a good heuristic to choose the variable that is most constrained but the value that is least constraining in a CSP search.\n",
    "\n",
    "See textbook Chapter6 6.9"
   ]
  },
  {
   "cell_type": "markdown",
   "metadata": {},
   "source": [
    "_your answer here..._ \n",
    "\n",
    "***'\n",
    "The most constrained variable is most efficent as it chooses a variable that is likely to cause a failure. The least constraining value heuristic allows the most chances for future assignments to avoid conflict. \n"
   ]
  },
  {
   "cell_type": "markdown",
   "metadata": {},
   "source": [
    "4\\.Consider the following procedure for choosing moves in games with chance nodes: \n",
    "- 1、Generate some dice-roll sequences (say, 50) down to a suitable depth (say, 8).\n",
    "- 2、With known dice rolls, the game tree becomes deterministic. For each dice-roll sequence,solve the resulting deterministic game tree using alpha-beta.\n",
    "- 3、Use the results to estimate the value of each move and to choose the best.Will this procedure work well? Why (or why not)?\n",
    "\n",
    "See textbook Chapter5 5.19"
   ]
  },
  {
   "cell_type": "markdown",
   "metadata": {},
   "source": [
    "_your answer here..._ \n",
    "\n",
    "***\n",
    "The procedure will not work well as it will give incorrect results. The procedure amounts to assuming that averaging commutes with min and max, which it does not. Intuitively, the choices made by each player in the deterministic trees are based on full knowledge of future dice rolls, and bear no necessary relationship to the moves made without such knowledge."
   ]
  },
  {
   "cell_type": "markdown",
   "metadata": {},
   "source": [
    "5\\. Now,please consider this game:  there are three plates A, B and C, each plate has three bills. A puts 1, 20, 50; B puts 5, 10, 100; C puts 1, 5, 20. All units are \"Yuan\". There are two persons A and B, and two of them can check out three plates and banknotes .（ A is ourself, The other is B）\n",
    "The game is divided into three steps: \n",
    "- 1、A select a plate from three plate.\n",
    "- 2、B take out two banknotes from A selected plate,and give the  banknotes to A.  \n",
    "- 3、A take one of the two banknotes, and take it away.among,A want to get the max banknotes, B want to let A to get the min.\n",
    "\n",
    "Try to understand the minimax algorithm，you can click the link:https://blog.csdn.net/tangchenyi/article/details/22920031"
   ]
  },
  {
   "cell_type": "markdown",
   "metadata": {},
   "source": [
    "_your answer here..._ \n",
    "\n",
    "***"
   ]
  },
  {
   "cell_type": "markdown",
   "metadata": {},
   "source": [
    "### Programming Excercises"
   ]
  },
  {
   "cell_type": "markdown",
   "metadata": {},
   "source": [
    "1\\. Guess number(Single number): please generate a randomly number  with the function (random), then ask someone to guess the number,I think we should give the corresponding hint, otherwise it will be very difficult to guess the number.the game will be over untill you get the right number."
   ]
  },
  {
   "cell_type": "code",
   "execution_count": null,
   "metadata": {},
   "outputs": [],
   "source": [
    "## write your answer here!\n",
    "\n",
    "import random\n",
    "\n",
    "r = random.randint(0, 100)\n",
    "    \n",
    "try:\n",
    "    guess = eval(input(\"guess the number between 0 and 100\"))\n",
    "except:\n",
    "    print(\"Please enter the correct number\")\n",
    "    \n",
    "while guess != r:\n",
    "    try:\n",
    "        t = input(\"Please guess again!\")\n",
    "        again = eval(t)\n",
    "        if again == r:\n",
    "            print(\"bingo!\")\n",
    "            break\n",
    "        else if again > r:\n",
    "            print(\"The number is too big\")\n",
    "        else:\n",
    "            print(\"The number is too small\")\n",
    "        \n",
    "    except:\n",
    "        print(\"Please enter the correct number\")\n"
   ]
  },
  {
   "cell_type": "markdown",
   "metadata": {},
   "source": [
    "2\\.if you had understand the guess single number games,Congratulates,next is the guess three number games,Maybe you can do it well.But this is a different way of thinking. \n",
    "first : we need generate three numbers,there are most ten times chances give  you to guess the number,of course,we also give you some cue.\n",
    "\n",
    "- 'When I say:-->It means:\n",
    "- 'error--> The 3 numbers are not in the mystical numbers.'\n",
    "- 'Only the number is correct --> the number is right , but the position is not right.'\n",
    "- 'Absolutely right--> numbers is right and the position also right.'\n",
    "\n",
    "Maybe it's better for you to understand the rule well through see the picture.\n",
    "<div style=\"float:left;\" ><img src=\"img/p1.png\" width=\"400\" height=\"300\" >"
   ]
  },
  {
   "cell_type": "code",
   "execution_count": null,
   "metadata": {},
   "outputs": [],
   "source": [
    "## write your answer here!  \n",
    "import random\n",
    "LEN = 3\n",
    "MAXGUESS = 10\n",
    "\n",
    "print('there are  %s numbers，please Guess what it is.' % (NUM_DIGITS))\n",
    "print('The clue I gave is:')\n",
    "print('When I say:                     It means:')\n",
    "print('error                           The 3 numbers are not in the mystical numbers.')\n",
    "print('Only the number is correct      the number is right , but the position is not right..')\n",
    "print('Absolutely right                numbers is right and the position also right.')\n",
    "\n",
    "\n",
    "def getTarget(): #generate a 3 digit nonrepetitive number\n",
    "    members = list(range(10))\n",
    "    random.shuffle(members)\n",
    "    target = ''\n",
    "    for i in range(LEN):\n",
    "        target += str(members[i])\n",
    "    return target\n",
    "\n",
    "def getClues(guess, target): #return the clues of each digit of each number guessed\n",
    "    if guess == target:\n",
    "        return \"Congratulations!\"\n",
    "    clues = []\n",
    "    for i in range(len(guess)):\n",
    "        if guess[i] == target[i]\n",
    "        clues.append('Absolutely right')\n",
    "        else if guess[i] != target[i] & guess[i] in target:\n",
    "            clues.append('Only the number is correct')\n",
    "        else:\n",
    "            clues.append(\"error\")\n",
    "    return clues\n",
    "    \n",
    "while True:\n",
    "    target = getTarget()\n",
    "    print('there are  %s numbers，You have  %s  chance to guess it.' % (LEN,MAXGUESS))\n",
    "    times = 1\n",
    "    while times <= MAXGUESS:\n",
    "        guess = ''\n",
    "        while len(guess) != LEN:\n",
    "            guess = input('This is the %s time: ' % (times))\n",
    "        print(getClues(guess, target))\n",
    "        times += 1\n",
    "        if guess == target:\n",
    "            break\n",
    "        if times > MAXGUESS:\n",
    "            print('You lost the game,the right answer is  %s.' % (target)\n",
    "    m = input('Do you want to play again? (yes or no)')\n",
    "    if not m.lower().startswith('y'):\n",
    "        break\n"
   ]
  },
  {
   "cell_type": "markdown",
   "metadata": {},
   "source": [
    "3\\.please try using Python's Tkinter to make a visual interface（GUI）.if you don't know anything.Maybe you can refer to the below interface.and implement it by code.\n",
    "\n",
    "<div style=\"float:left;\" ><img src=\"img/p2.png\" width=\"200\" height=\"200\" >"
   ]
  },
  {
   "cell_type": "code",
   "execution_count": null,
   "metadata": {},
   "outputs": [],
   "source": [
    "## write your answer here!\n",
    "# -*- coding: UTF-8 -*-\n",
    "\n",
    "from tkinter import *\n",
    "root = Tk()  \n",
    "listbox1 = Listbox(root) \n",
    "listbox2 = Listbox(root)\n",
    "\n",
    "for item in ['C', 'python', 'php', 'html', 'SQL', 'java']: \n",
    "    listbox1.insert(0, item)\n",
    "\n",
    "for item in ['CSS', 'jQuery', 'Bootstrap']: \n",
    "    listbox2.insert(0, item)\n",
    "\n",
    "listbox1.pack() \n",
    "listbox2.pack()\n",
    "root.mainloop()  "
   ]
  },
  {
   "cell_type": "markdown",
   "metadata": {},
   "source": [
    "4\\.Through the initial trial of Tkinter,    please write a simple calculator.\n",
    "\n",
    "<div style=\"float:left;\" ><img src=\"img/p3.png\" width=\"180\" height=\"200\" center=\"left\"></div>\n",
    "<div style=\"float:left;\" ><img src=\"img/p4.png\" width=\"180\" height=\"200\" center=\"right\" ></div>"
   ]
  },
  {
   "cell_type": "code",
   "execution_count": 8,
   "metadata": {},
   "outputs": [],
   "source": [
    "## write your answer here!\n",
    "## write your answer here!\n",
    "from tkinter import *\n",
    "\n",
    "root = Tk()\n",
    "\n",
    "root.geometry('400x500')\n",
    "root.title('cute calculator')\n",
    "\n",
    "frame_show = Frame(width=300, height=150, bg='#dddddd')\n",
    "frame_show.pack()\n",
    "\n",
    "sv = StringVar()\n",
    "sv.set('0')\n",
    "\n",
    "i = ''\n",
    "\n",
    "show_lable = Label(frame_show, text=i, \\\n",
    "                   bg='pink', width=25, height=1, \\\n",
    "                   font=(\"黑体\", 50, 'bold'), \\\n",
    "                   justify=LEFT, anchor='e')\n",
    "show_lable.pack( padx=10, pady=10 )\n",
    "\n",
    "def delete():\n",
    "    global i\n",
    "    i = i[:-1]\n",
    "    show_lable['text'] = i\n",
    "def clear():\n",
    "    global i\n",
    "    i = ''\n",
    "    show_lable['text'] = i\n",
    "\n",
    "def w():\n",
    "    show_lable['text'] = 'help'\n",
    "def e():\n",
    "    global i\n",
    "    i = \"-\" + i\n",
    "    show_lable['text'] = i\n",
    "        \n",
    "def operation(op):\n",
    "    global i\n",
    "    i += op\n",
    "    show_lable['text'] = i\n",
    "\n",
    "def equal():\n",
    "    global i\n",
    "    try:\n",
    "        if i != '':\n",
    "            i = '%s'%eval(i)\n",
    "            show_lable['text'] = i\n",
    "    except:\n",
    "        show_lable['text'] = 'form error'\n",
    "\n",
    "frame_bord = Frame( width=400, height=350, bg='#CCCCCC' )\n",
    "b_del = Button( frame_bord, text=\"←\", width=10, height=2, \\\n",
    "               command=delete )\n",
    "b_del.grid( row=0, column=2 )\n",
    "b_del = Button( frame_bord, text=\"C\", width=10, height=2, \\\n",
    "               command=clear ).grid( row=0, column=0 )\n",
    "b_del = Button( frame_bord, text=\"±\", width=10, height=2, \\\n",
    "               command=e ).grid( row=0, column=1 )\n",
    "b_del = Button( frame_bord, text=\"CE\", width=10, height=2, \\\n",
    "               command=clear ).grid( row=0, column=3 )\n",
    "\n",
    "\n",
    "\n",
    "b_1 = Button(frame_bord, text='1', width=10, height=4, \\\n",
    "             command=lambda :operation('1')).grid(row=1, column=0)\n",
    "b_2 = Button(frame_bord, text='2', width=10, height=4, \\\n",
    "             command=lambda :operation('2')).grid(row=1, column=1)\n",
    "b_3 = Button(frame_bord, text='3', width=10, height=4, \\\n",
    "             command=lambda :operation('3')).grid(row=1, column=2)\n",
    "b_4 = Button(frame_bord, text='4', width=10, height=4, \\\n",
    "             command=lambda :operation('4')).grid(row=1, column=3)\n",
    "b_5 = Button(frame_bord, text='5', width=10, height=4, \\\n",
    "             command=lambda :operation('5')).grid(row=2, column=0)\n",
    "b_6 = Button(frame_bord, text='6', width=10, height=4, \\\n",
    "             command=lambda :operation('6')).grid(row=2, column=1)\n",
    "b_7 = Button(frame_bord, text='7', width=10, height=4, \\\n",
    "             command=lambda :operation('7')).grid(row=2, column=2)\n",
    "b_8 = Button(frame_bord, text='8', width=10, height=4, \\\n",
    "             command=lambda :operation('8')).grid(row=2, column=3)\n",
    "b_9 = Button(frame_bord, text='9', width=10, height=4, \\\n",
    "             command=lambda :operation('9')).grid(row=3, column=1)\n",
    "b_0 = Button(frame_bord, text='0', width=10, height=4, \\\n",
    "             command=lambda :operation('0')).grid(row=3, column=2)\n",
    "\n",
    "b_d = Button(frame_bord, text='=', width=10, height=4, \\\n",
    "             command=equal).grid(row=3, column=3)\n",
    "b_w = Button(frame_bord, text='.', width=10, height=4, \\\n",
    "             command=lambda :operation('.')).grid(row=3, column=0)\n",
    "\n",
    "b_w = Button(frame_bord, text='help', width=5, height=2, \\\n",
    "             command=w).grid(row=5, column=1)\n",
    "\n",
    "b_jia = Button(frame_bord, text='+', width=10, height=2, \\\n",
    "             command=lambda :operation('+')).grid(row=4, column=0)\n",
    "b_jian = Button(frame_bord, text='-', width=10, height=2, \\\n",
    "             command=lambda :operation('-')).grid(row=4, column=1)\n",
    "b_cheng = Button(frame_bord, text='*', width=10, height=2, \\\n",
    "             command=lambda :operation('*')).grid(row=4, column=2)\n",
    "b_chu = Button(frame_bord, text='/', width=10, height=2, \\\n",
    "             command=lambda :operation('/')).grid(row=4, column=3)\n",
    "\n",
    "frame_bord.pack(padx=10, pady=10)\n",
    "\n",
    "root.mainloop()"
   ]
  },
  {
   "cell_type": "markdown",
   "metadata": {},
   "source": [
    "5\\.Ball game:Python's pinball game, which can realize the game function of the keyboard control bottom baffle moving collision ball similar to table tennis game. \n",
    "\n",
    "<div style=\"float:left;\" ><img src=\"img/p5.png\" width=\"200\" height=\"200\" center=\"left\"></div>\n",
    "<div style=\"float:left;\" ><img src=\"img/p6.png\" width=\"200\" height=\"200\" center=\"right\" ></div>\n"
   ]
  },
  {
   "cell_type": "markdown",
   "metadata": {},
   "source": [
    "this is a step:how to install the matplotlib,you can reference this link:https://blog.csdn.net/not_give_up_/article/details/79058272\n",
    "1. Ball Class\n",
    "    draw is responsible for moving Ball\n",
    "    Collision detection, bounce, Ball detection of Paddle \n",
    "2. Paddle Class\n",
    "    draw is responsible for moving Paddle\n",
    "    Collision detection to determine whether or not to continue ,Monitor keyboard events\n",
    "3. main cycle\n",
    "    Drawing the Ball and Paddle"
   ]
  },
  {
   "cell_type": "code",
   "execution_count": null,
   "metadata": {},
   "outputs": [],
   "source": [
    "## write your answer here!\n",
    "\n",
    "from tkinter import *\n",
    "import matplotlib\n",
    "matplotlib.use('Agg')\n",
    "import random\n",
    "import time\n",
    "class Ball:\n",
    "    def __init__(self, canvas, paddle, color):\n",
    "        self.canvas = canvas\n",
    "        self.paddle = paddle\n",
    "        self.id = canvas.create_oval(10, 10, 25, 25, fill=color)\n",
    "        self.canvas.move(self.id, 245, 100)\n",
    "        startx = [-3, -2, -1, 1, 2, 3]\n",
    "        random.shuffle(startx)\n",
    "        self.x = startx[0]\n",
    "        self.y = -3\n",
    "        self.canvas_height = self.canvas.winfo_height()\n",
    "        self.canvas_width = self.canvas.winfo_width()\n",
    "        self.hit_bottom = False\n",
    "    def draw(self):\n",
    "        self.canvas.move(self.id, self.x, self.y)\n",
    "        pos = self.canvas.coords(self.id)#top-left bottom-right\n",
    "        if (pos[1] <= 0 or self.hit_paddle(pos) == True):\n",
    "            self.y = -self.y\n",
    "        if (pos[0] <= 0 or pos[2] >= self.canvas_width):\n",
    "            self.x = -self.x\n",
    "        if (pos[3] >= self.canvas_height):\n",
    "            self.hit_bottom = True\n",
    "    def hit_paddle(self, pos):\n",
    "        paddle_pos = self.canvas.coords(self.paddle.id)\n",
    "        if (pos[2] >= paddle_pos[0] and pos[0] <= paddle_pos[2]):\n",
    "            if (pos[3] >= paddle_pos[1] and pos[3] <= paddle_pos[3]):\n",
    "                return True\n",
    "        return False\n",
    "class Paddle:\n",
    "    def __init__(self, canvas, color):\n",
    "        self.canvas = canvas\n",
    "        self.id = canvas.create_rectangle(0, 0, 100, 10, fill = color)\n",
    "        self.x = 0\n",
    "        self.y = 0\n",
    "        self.canvas.move(self.id, 200, 300)\n",
    "        self.canvas_height = self.canvas.winfo_height()\n",
    "        self.canvas_width = self.canvas.winfo_width()\n",
    "        self.canvas.bind_all(\"<Key-a>\", self.turn_left)\n",
    "        self.canvas.bind_all(\"<Key-d>\", self.turn_right)\n",
    "        self.canvas.bind_all(\"<Key-w>\", self.turn_up)\n",
    "        self.canvas.bind_all(\"<Key-s>\", self.turn_down)\n",
    "        \n",
    "    def draw(self):\n",
    "        pos = self.canvas.coords(self.id)\n",
    "        if (pos[0] + self.x >= 0 and pos[2] + self.x <= self.canvas_width):\n",
    "            self.canvas.move(self.id, self.x, 0)\n",
    "        #self.x = 0\n",
    "        if (pos[1] + self.y >= 0 and pos[3] + self.y <= self.canvas_height):\n",
    "            self.canvas.move(self.id, 0, self.y)\n",
    "            \n",
    "    def turn_left(self, event):\n",
    "        self.x = -4\n",
    "    def turn_right(self, event):\n",
    "        self.x = 4\n",
    "    def turn_up(self, event):\n",
    "        self.y = -2\n",
    "    def turn_down(self, event):\n",
    "        self.y = 2\n",
    "tk = Tk()\n",
    "tk.title(\"Game\")\n",
    "tk.resizable(0, 0)\n",
    "tk.wm_attributes(\"-topmost\", 1)\n",
    "canvas = Canvas(tk, width = 500, height = 500, bd = 0, highlightthickness = 0)\n",
    "canvas.pack()\n",
    "tk.update()\n",
    "paddle = Paddle(canvas, 'blue')\n",
    "ball = Ball(canvas, paddle, 'red')\n",
    "while 1:\n",
    "    if (ball.hit_bottom == False):\n",
    "        ball.draw()\n",
    "        paddle.draw()\n",
    "    tk.update_idletasks()\n",
    "    tk.update()\n",
    "    time.sleep(0.01)"
   ]
  },
  {
   "cell_type": "code",
   "execution_count": null,
   "metadata": {},
   "outputs": [],
   "source": []
  },
  {
   "cell_type": "code",
   "execution_count": null,
   "metadata": {},
   "outputs": [],
   "source": []
  },
  {
   "cell_type": "code",
   "execution_count": null,
   "metadata": {},
   "outputs": [],
   "source": []
  },
  {
   "cell_type": "code",
   "execution_count": null,
   "metadata": {},
   "outputs": [],
   "source": []
  },
  {
   "cell_type": "code",
   "execution_count": 13,
   "metadata": {},
   "outputs": [
    {
     "ename": "NameError",
     "evalue": "name 'a' is not defined",
     "output_type": "error",
     "traceback": [
      "\u001b[0;31m---------------------------------------------------------------------------\u001b[0m",
      "\u001b[0;31mNameError\u001b[0m                                 Traceback (most recent call last)",
      "\u001b[0;32m<ipython-input-13-3f786850e387>\u001b[0m in \u001b[0;36m<module>\u001b[0;34m()\u001b[0m\n\u001b[0;32m----> 1\u001b[0;31m \u001b[0ma\u001b[0m\u001b[0;34m\u001b[0m\u001b[0m\n\u001b[0m",
      "\u001b[0;31mNameError\u001b[0m: name 'a' is not defined"
     ]
    }
   ],
   "source": [
    "a"
   ]
  },
  {
   "cell_type": "code",
   "execution_count": null,
   "metadata": {},
   "outputs": [],
   "source": []
  }
 ],
 "metadata": {
  "kernelspec": {
   "display_name": "Python 3",
   "language": "python",
   "name": "python3"
  },
  "language_info": {
   "codemirror_mode": {
    "name": "ipython",
    "version": 3
   },
   "file_extension": ".py",
   "mimetype": "text/x-python",
   "name": "python",
   "nbconvert_exporter": "python",
   "pygments_lexer": "ipython3",
   "version": "3.6.5"
  }
 },
 "nbformat": 4,
 "nbformat_minor": 2
}
